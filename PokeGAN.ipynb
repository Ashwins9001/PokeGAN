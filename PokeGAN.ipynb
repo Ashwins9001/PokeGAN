{
 "cells": [
  {
   "cell_type": "markdown",
   "id": "f8dbb521",
   "metadata": {},
   "source": [
    "## Prepare images for training\n",
    "\n",
    "Resize images to 64 x 64 x 1. For simplicity's sake, only use single channel from RGB images."
   ]
  },
  {
   "cell_type": "code",
   "execution_count": 1,
   "id": "f541eea3",
   "metadata": {},
   "outputs": [],
   "source": [
    "from matplotlib import image\n",
    "from os import listdir\n",
    "from PIL import Image\n",
    "import numpy as np\n",
    "from numpy import expand_dims\n",
    "\n",
    "\n",
    "def load_samples():\n",
    "    loaded_img = []\n",
    "\n",
    "    for file in listdir('C:/Users/Nitro/Documents/pokegan/pokemon_jpg/pokemon_jpg'):\n",
    "        img = Image.open('C:/Users/Nitro/Documents/pokegan/pokemon_jpg/pokemon_jpg/' + file)\n",
    "        red, green, blue = img.split()\n",
    "        img_resized = red.resize((64, 64))\n",
    "        im2arr = np.array(img_resized)\n",
    "        loaded_img.append(im2arr)\n",
    "\n",
    "    X = np.asarray(loaded_img)\n",
    "    X = expand_dims(X, axis=-1)\n",
    "    X = X.astype('float32')\n",
    "    X = X / 255.0\n",
    "    return X"
   ]
  },
  {
   "cell_type": "markdown",
   "id": "42a3f82d",
   "metadata": {},
   "source": [
    "## Produce discriminator architecture\n",
    "\n",
    "Use Leaky ReLU activation function after convolutions to reduce vanishing gradient problem to ensure better training for kernels. Additionally use Leaky ReLU  to add non-linearity to improve variance in learned kernels and allow model to adapt to various features.\n",
    "\n",
    "Apply dropout layers as well to possibly remove some outputs and reduce overfitting.\n",
    "\n",
    "Discriminator compresses images down into feature space. It is trained on real and fake images; therefore model is a convolutional neural network for binary-classification. "
   ]
  },
  {
   "cell_type": "code",
   "execution_count": 2,
   "id": "a8465630",
   "metadata": {},
   "outputs": [
    {
     "name": "stdout",
     "output_type": "stream",
     "text": [
      "Model: \"sequential\"\n",
      "_________________________________________________________________\n",
      "Layer (type)                 Output Shape              Param #   \n",
      "=================================================================\n",
      "conv2d (Conv2D)              (None, 16, 16, 64)        640       \n",
      "_________________________________________________________________\n",
      "leaky_re_lu (LeakyReLU)      (None, 16, 16, 64)        0         \n",
      "_________________________________________________________________\n",
      "dropout (Dropout)            (None, 16, 16, 64)        0         \n",
      "_________________________________________________________________\n",
      "conv2d_1 (Conv2D)            (None, 8, 8, 64)          36928     \n",
      "_________________________________________________________________\n",
      "leaky_re_lu_1 (LeakyReLU)    (None, 8, 8, 64)          0         \n",
      "_________________________________________________________________\n",
      "dropout_1 (Dropout)          (None, 8, 8, 64)          0         \n",
      "_________________________________________________________________\n",
      "flatten (Flatten)            (None, 4096)              0         \n",
      "_________________________________________________________________\n",
      "dense (Dense)                (None, 1)                 4097      \n",
      "=================================================================\n",
      "Total params: 41,665\n",
      "Trainable params: 41,665\n",
      "Non-trainable params: 0\n",
      "_________________________________________________________________\n"
     ]
    }
   ],
   "source": [
    "from keras.models import Sequential\n",
    "from keras.optimizers import Adam\n",
    "from keras.layers import Dense\n",
    "from keras.layers import Conv2D\n",
    "from keras.layers import Flatten\n",
    "from keras.layers import Dropout\n",
    "from keras.layers import LeakyReLU\n",
    "from keras.utils.vis_utils import plot_model\n",
    "\n",
    "def discriminator(in_shape=(64, 64, 1)):\n",
    "    model = Sequential()\n",
    "    model.add(Conv2D(64, (3, 3), strides=(4, 4), padding='same', input_shape=in_shape))\n",
    "    model.add(LeakyReLU(alpha=0.2))\n",
    "    model.add(Dropout(0.4))\n",
    "    model.add(Conv2D(64, (3, 3), strides=(2, 2), padding='same'))\n",
    "    model.add(LeakyReLU(alpha=0.2))\n",
    "    model.add(Dropout(0.4))\n",
    "    model.add(Flatten())\n",
    "    model.add(Dense(1, activation='sigmoid'))\n",
    "    \n",
    "    opt = Adam(lr=0.0002, beta_1=0.5)\n",
    "    model.compile(loss='binary_crossentropy', optimizer=opt, metrics=['accuracy'])\n",
    "    return model\n",
    "\n",
    "model = discriminator()\n",
    "model.summary()"
   ]
  },
  {
   "cell_type": "markdown",
   "id": "97dd4ab4",
   "metadata": {},
   "source": [
    "## Load in all pokemon image samples"
   ]
  },
  {
   "cell_type": "code",
   "execution_count": 3,
   "id": "92a99268",
   "metadata": {},
   "outputs": [
    {
     "data": {
      "text/plain": [
       "(819, 64, 64, 1)"
      ]
     },
     "execution_count": 3,
     "metadata": {},
     "output_type": "execute_result"
    }
   ],
   "source": [
    "trainX = load_samples()\n",
    "trainX.shape"
   ]
  },
  {
   "cell_type": "markdown",
   "id": "746772cc",
   "metadata": {},
   "source": [
    "## Produce real-image dataset for training discriminator\n",
    "\n",
    "Select random images from existing dataset and assign real class label"
   ]
  },
  {
   "cell_type": "code",
   "execution_count": 4,
   "id": "9cb5fe92",
   "metadata": {},
   "outputs": [],
   "source": [
    "from numpy import ones\n",
    "from numpy import zeros\n",
    "from numpy.random import rand\n",
    "from numpy.random import randint\n",
    "\n",
    "def generate_real_samples(dataset, n):\n",
    "    ind = randint(0, dataset.shape[0], n)\n",
    "    X = dataset[ind]\n",
    "    y = ones((n, 1))\n",
    "    return X, y"
   ]
  },
  {
   "cell_type": "markdown",
   "id": "000d84dc",
   "metadata": {},
   "source": [
    "## Produce fake-image dataset for training discriminator\n",
    "\n",
    "Create pixel-space for however many image samples are selected. Then transform the pixel space into n random images and provide a class label."
   ]
  },
  {
   "cell_type": "code",
   "execution_count": 5,
   "id": "1cdf8860",
   "metadata": {},
   "outputs": [],
   "source": [
    "def generate_fake_samples(n):\n",
    "    X = rand(64 * 64 * n)\n",
    "    X = X.reshape((n, 64, 64, 1))\n",
    "    y = zeros((n, 1))\n",
    "    return X, y"
   ]
  },
  {
   "cell_type": "markdown",
   "id": "34761505",
   "metadata": {},
   "source": [
    "## Train discriminator\n",
    "\n",
    "Adjust kernel weights per each batch then check prediction accuracy. Train and test splits handled in background by function, train_on_batch().\n",
    "\n",
    "Keras by default ignores first dimension of input, therefore even though fake and real samples have shape (n, 64, 64, 1), Keras will read it in as (64, 64, 1) and work correctly.\n",
    "\n",
    "Additionally train_on_batch() is a specialised training algorithm as opposed to fit(). Training in batches reduces memory overhead and reduces processing time. \n",
    "\n",
    "Notice fast convergence of algorithm. Due to strongly randomized fake images it works quickly, however later when discriminator competes with generator, training time will increase."
   ]
  },
  {
   "cell_type": "code",
   "execution_count": 6,
   "id": "3e62a59a",
   "metadata": {},
   "outputs": [
    {
     "name": "stdout",
     "output_type": "stream",
     "text": [
      ">1 real=45% fake=25%\n",
      ">2 real=81% fake=25%\n",
      ">3 real=81% fake=22%\n",
      ">4 real=89% fake=17%\n",
      ">5 real=94% fake=3%\n",
      ">6 real=92% fake=12%\n",
      ">7 real=100% fake=11%\n",
      ">8 real=92% fake=6%\n",
      ">9 real=98% fake=5%\n",
      ">10 real=100% fake=2%\n",
      ">11 real=100% fake=2%\n",
      ">12 real=100% fake=5%\n",
      ">13 real=98% fake=3%\n",
      ">14 real=100% fake=6%\n",
      ">15 real=98% fake=2%\n",
      ">16 real=100% fake=2%\n",
      ">17 real=100% fake=0%\n",
      ">18 real=100% fake=3%\n",
      ">19 real=100% fake=3%\n",
      ">20 real=100% fake=0%\n",
      ">21 real=100% fake=3%\n",
      ">22 real=100% fake=2%\n",
      ">23 real=98% fake=3%\n",
      ">24 real=100% fake=8%\n",
      ">25 real=100% fake=2%\n",
      ">26 real=100% fake=5%\n",
      ">27 real=100% fake=3%\n",
      ">28 real=100% fake=6%\n",
      ">29 real=100% fake=5%\n",
      ">30 real=100% fake=6%\n",
      ">31 real=100% fake=16%\n",
      ">32 real=100% fake=16%\n",
      ">33 real=100% fake=22%\n",
      ">34 real=100% fake=27%\n",
      ">35 real=100% fake=31%\n",
      ">36 real=100% fake=36%\n",
      ">37 real=100% fake=48%\n",
      ">38 real=98% fake=55%\n",
      ">39 real=100% fake=47%\n",
      ">40 real=100% fake=67%\n",
      ">41 real=100% fake=80%\n",
      ">42 real=100% fake=80%\n",
      ">43 real=100% fake=84%\n",
      ">44 real=100% fake=84%\n",
      ">45 real=100% fake=89%\n",
      ">46 real=100% fake=92%\n",
      ">47 real=100% fake=95%\n",
      ">48 real=100% fake=95%\n",
      ">49 real=100% fake=97%\n",
      ">50 real=100% fake=100%\n"
     ]
    }
   ],
   "source": [
    "def train_discriminator(model, dataset, n_iter=50, n_batch=128):\n",
    "    half_batch = int(n_batch/2)\n",
    "    \n",
    "    for i in range(n_iter):\n",
    "        X_real, y_real = generate_real_samples(dataset, half_batch)\n",
    "        _, real_acc = model.train_on_batch(X_real, y_real)\n",
    "        X_fake, y_fake = generate_fake_samples(half_batch)\n",
    "        _, fake_acc = model.train_on_batch(X_fake, y_fake)\n",
    "        print('>%d real=%.0f%% fake=%.0f%%' % (i+1, real_acc*100, fake_acc*100))\n",
    "\n",
    "model = discriminator()\n",
    "train_discriminator(model, trainX)"
   ]
  },
  {
   "cell_type": "markdown",
   "id": "04fd7bfc",
   "metadata": {},
   "source": [
    "## Create generator\n",
    "Generator learns to map 100-dim input vector to images by using multiple upsampling operations (transpose-convolutions) and then outputting a regularized image. \n",
    "\n",
    "First dense layer creates pixel-space for 128, 16 x 16 images, and maps the 100-dim vector to that pixel-space.\n",
    "\n",
    "Applies multiple kernels to learn mapping more accurately for added variance."
   ]
  },
  {
   "cell_type": "code",
   "execution_count": 15,
   "id": "e7ad0833",
   "metadata": {},
   "outputs": [
    {
     "name": "stdout",
     "output_type": "stream",
     "text": [
      "Model: \"sequential_9\"\n",
      "_________________________________________________________________\n",
      "Layer (type)                 Output Shape              Param #   \n",
      "=================================================================\n",
      "dense_9 (Dense)              (None, 32768)             3309568   \n",
      "_________________________________________________________________\n",
      "leaky_re_lu_15 (LeakyReLU)   (None, 32768)             0         \n",
      "_________________________________________________________________\n",
      "reshape_2 (Reshape)          (None, 16, 16, 128)       0         \n",
      "_________________________________________________________________\n",
      "conv2d_transpose_4 (Conv2DTr (None, 32, 32, 128)       262272    \n",
      "_________________________________________________________________\n",
      "leaky_re_lu_16 (LeakyReLU)   (None, 32, 32, 128)       0         \n",
      "_________________________________________________________________\n",
      "conv2d_transpose_5 (Conv2DTr (None, 64, 64, 128)       262272    \n",
      "_________________________________________________________________\n",
      "leaky_re_lu_17 (LeakyReLU)   (None, 64, 64, 128)       0         \n",
      "_________________________________________________________________\n",
      "conv2d_6 (Conv2D)            (None, 64, 64, 1)         32769     \n",
      "=================================================================\n",
      "Total params: 3,866,881\n",
      "Trainable params: 3,866,881\n",
      "Non-trainable params: 0\n",
      "_________________________________________________________________\n"
     ]
    }
   ],
   "source": [
    "from keras.layers import Reshape\n",
    "from keras.layers import Conv2DTranspose\n",
    "\n",
    "def generator(latent_dim):\n",
    "    model = Sequential()\n",
    "    n_nodes = 128 * 16 * 16\n",
    "    \n",
    "    model.add(Dense(n_nodes, input_dim=latent_dim))\n",
    "    model.add(LeakyReLU(alpha=0.2))\n",
    "    model.add(Reshape((16, 16, 128)))\n",
    "    model.add(Conv2DTranspose(128, (4, 4), strides=(2, 2), padding='same'))\n",
    "    model.add(LeakyReLU(alpha=0.2))\n",
    "    model.add(Conv2DTranspose(128, (4, 4), strides=(2, 2), padding='same'))\n",
    "    model.add(LeakyReLU(alpha=0.2))\n",
    "    model.add(Conv2D(1, (16, 16), activation='sigmoid', padding='same'))\n",
    "    return model\n",
    "    \n",
    "latent_dim = 100\n",
    "model = generator(latent_dim)\n",
    "model.summary()"
   ]
  },
  {
   "cell_type": "markdown",
   "id": "c3012e84",
   "metadata": {},
   "source": [
    "Generate latent space for generator to learn to associate vectors to images with by creating random points and reshaping into a 100-dim vector. Then let untrained generator produce images from latent space."
   ]
  },
  {
   "cell_type": "code",
   "execution_count": 20,
   "id": "f77d43df",
   "metadata": {},
   "outputs": [],
   "source": [
    "def generate_latent_points(latent_dim, n_samples):\n",
    "    x_input = randn(latent_dim * n_samples)\n",
    "    x_input = x_input.reshape(n_samples, latent_dim)\n",
    "    return x_input"
   ]
  },
  {
   "cell_type": "code",
   "execution_count": 21,
   "id": "d848a570",
   "metadata": {},
   "outputs": [],
   "source": [
    "def generate_fake_samples(g_model, latent_dim, n_samples):\n",
    "    x_input = generate_latent_points(latent_dim, n_samples)\n",
    "    X = g_model.predict(x_input)\n",
    "    y = zeros((n_samples, 1))\n",
    "    return X, y"
   ]
  },
  {
   "cell_type": "markdown",
   "id": "c975526f",
   "metadata": {},
   "source": [
    "## Display generated images from (untrained) generator"
   ]
  },
  {
   "cell_type": "code",
   "execution_count": 22,
   "id": "834053c6",
   "metadata": {},
   "outputs": [
    {
     "data": {
      "image/png": "[encoded data removed]",
      "text/plain": [
       "<Figure size 432x288 with 25 Axes>"
      ]
     },
     "metadata": {
      "needs_background": "light"
     },
     "output_type": "display_data"
    }
   ],
   "source": [
    "from matplotlib import pyplot\n",
    "from numpy.random import randn\n",
    "\n",
    "n_samples = 25\n",
    "X, _ = generate_fake_samples(model, latent_dim, n_samples)\n",
    "for i in range(n_samples):\n",
    "    pyplot.subplot(5, 5, 1 + i)\n",
    "    pyplot.axis('off')\n",
    "    pyplot.imshow(X[i, :, :, 0], cmap='gray_r')\n",
    "\n",
    "pyplot.show()"
   ]
  },
  {
   "cell_type": "markdown",
   "id": "109571fe",
   "metadata": {},
   "source": [
    "## Formulate GAN\n",
    "GAN is composed of generator and discriminator. The generator produces samples that are always classifed as real and fed into the discriminator. The discriminator then classifies the samples are real or fake, and its weights are not adjusted as it is trained beforehand.\n",
    "\n",
    "When a fake sample is produced by the generator, but classified as real, then the discriminator will classify it as fake (as intended). This creates a large training error and drives the entire GAN to adjust its weights thereby making the generator produce better fake samples. \n",
    "\n",
    "Therefore model performance and training accuracy is contingent upon the discriminator correctly classifying samples.\n",
    "\n",
    "Entire GAN takes a point in latent space, generates an image from it and classifies it using the discriminator. Therefore the intuitive architecture is a generator network that feeds into a discriminator network"
   ]
  },
  {
   "cell_type": "code",
   "execution_count": null,
   "id": "b934c1e3",
   "metadata": {},
   "outputs": [],
   "source": [
    "def gan(g_model, d_model):\n",
    "    d_model.trainable = False\n",
    "    model = Sequential()\n",
    "    model.add(g_model)\n",
    "    model.add(d_model)\n",
    "    opt = Adam(lr=0.0002, beta_1 = 0.5)\n",
    "    model.compile(loss='binary_crossentropy', optimizer=opt)\n",
    "    return model\n",
    "latent_dim = 100\n",
    "d_model = discriminator()\n",
    "g_model = generator()\n",
    "gan_model = gan(generator, discriminator)\n",
    "gan_model.summary()"
   ]
  },
  {
   "cell_type": "markdown",
   "id": "5b84c77b",
   "metadata": {},
   "source": [
    "## Training the GAN\n",
    "Formulate n latent space vectors and pass in to the network. Each vector corresponds to a generated image that is assumed to be real (1), therefore the output per each sample is 1. \n",
    "\n",
    "Train the GAN by the above mentioned data flow until the discriminator makes the generator produce better fake samples."
   ]
  },
  {
   "cell_type": "code",
   "execution_count": null,
   "id": "c39aae8d",
   "metadata": {},
   "outputs": [],
   "source": [
    "def train_gan(gan_model, latent_dim, n_epochs=100, n_batch=256):\n",
    "    for i in range(n_epochs):\n",
    "        x_gan = generate_latent_points(latent_dim, n_batch)\n",
    "        y_gan = ones((n_batch, 1))\n",
    "        gan_model.train_on_batch(x_gan, y_gan)"
   ]
  }
 ],
 "metadata": {
  "kernelspec": {
   "display_name": "Python 3",
   "language": "python",
   "name": "python3"
  },
  "language_info": {
   "codemirror_mode": {
    "name": "ipython",
    "version": 3
   },
   "file_extension": ".py",
   "mimetype": "text/x-python",
   "name": "python",
   "nbconvert_exporter": "python",
   "pygments_lexer": "ipython3",
   "version": "3.8.10"
  }
 },
 "nbformat": 4,
 "nbformat_minor": 5
}
