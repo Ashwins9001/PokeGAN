{
 "cells": [
  {
   "cell_type": "markdown",
   "id": "c776302b",
   "metadata": {},
   "source": [
    "## Prepare images for training"
   ]
  },
  {
   "cell_type": "code",
   "execution_count": 1,
   "id": "f541eea3",
   "metadata": {},
   "outputs": [],
   "source": [
    "from matplotlib import image\n",
    "from os import listdir\n",
    "from PIL import Image\n",
    "import numpy as np\n",
    "\n",
    "def load_samples():\n",
    "    loaded_img = []\n",
    "\n",
    "    for file in listdir('C:/Users/Nitro/Documents/pokegan/pokemon_jpg/pokemon_jpg'):\n",
    "        img = Image.open('C:/Users/Nitro/Documents/pokegan/pokemon_jpg/pokemon_jpg/' + file)\n",
    "        img_resized = img.resize((64, 64))\n",
    "        im2arr = np.array(img_resized)\n",
    "        loaded_img.append(im2arr)\n",
    "\n",
    "    X = np.asarray(loaded_img)\n",
    "    X = X.astype('float32')\n",
    "    X = X / 255.0\n",
    "    return X"
   ]
  },
  {
   "cell_type": "markdown",
   "id": "ebdc3edf",
   "metadata": {},
   "source": [
    "## Produce discriminator architecture"
   ]
  },
  {
   "cell_type": "code",
   "execution_count": 2,
   "id": "a8465630",
   "metadata": {},
   "outputs": [
    {
     "name": "stdout",
     "output_type": "stream",
     "text": [
      "Model: \"sequential\"\n",
      "_________________________________________________________________\n",
      "Layer (type)                 Output Shape              Param #   \n",
      "=================================================================\n",
      "conv2d (Conv2D)              (None, 16, 16, 64)        640       \n",
      "_________________________________________________________________\n",
      "leaky_re_lu (LeakyReLU)      (None, 16, 16, 64)        0         \n",
      "_________________________________________________________________\n",
      "dropout (Dropout)            (None, 16, 16, 64)        0         \n",
      "_________________________________________________________________\n",
      "conv2d_1 (Conv2D)            (None, 8, 8, 64)          36928     \n",
      "_________________________________________________________________\n",
      "leaky_re_lu_1 (LeakyReLU)    (None, 8, 8, 64)          0         \n",
      "_________________________________________________________________\n",
      "dropout_1 (Dropout)          (None, 8, 8, 64)          0         \n",
      "_________________________________________________________________\n",
      "flatten (Flatten)            (None, 4096)              0         \n",
      "_________________________________________________________________\n",
      "dense (Dense)                (None, 1)                 4097      \n",
      "=================================================================\n",
      "Total params: 41,665\n",
      "Trainable params: 41,665\n",
      "Non-trainable params: 0\n",
      "_________________________________________________________________\n"
     ]
    }
   ],
   "source": [
    "from keras.models import Sequential\n",
    "from keras.optimizers import Adam\n",
    "from keras.layers import Dense\n",
    "from keras.layers import Conv2D\n",
    "from keras.layers import Flatten\n",
    "from keras.layers import Dropout\n",
    "from keras.layers import LeakyReLU\n",
    "from keras.utils.vis_utils import plot_model\n",
    "\n",
    "def discriminator(in_shape=(64, 64, 1)):\n",
    "    model = Sequential()\n",
    "    model.add(Conv2D(64, (3, 3), strides=(4, 4), padding='same', input_shape=in_shape))\n",
    "    model.add(LeakyReLU(alpha=0.2))\n",
    "    model.add(Dropout(0.4))\n",
    "    model.add(Conv2D(64, (3, 3), strides=(2, 2), padding='same'))\n",
    "    model.add(LeakyReLU(alpha=0.2))\n",
    "    model.add(Dropout(0.4))\n",
    "    model.add(Flatten())\n",
    "    model.add(Dense(1, activation='sigmoid'))\n",
    "    \n",
    "    opt = Adam(lr=0.0002, beta_1=0.5)\n",
    "    model.compile(loss='binary_crossentropy', optimizer=opt, metrics=['accuracy'])\n",
    "    return model\n",
    "\n",
    "model = discriminator()\n",
    "model.summary()"
   ]
  },
  {
   "cell_type": "markdown",
   "id": "a795920f",
   "metadata": {},
   "source": [
    "## Load in all pokemon image samples"
   ]
  },
  {
   "cell_type": "code",
   "execution_count": 3,
   "id": "2095c2d7",
   "metadata": {},
   "outputs": [
    {
     "data": {
      "text/plain": [
       "(819, 64, 64, 3)"
      ]
     },
     "execution_count": 3,
     "metadata": {},
     "output_type": "execute_result"
    }
   ],
   "source": [
    "trainX = load_samples()\n",
    "trainX.shape"
   ]
  },
  {
   "cell_type": "markdown",
   "id": "4ecda329",
   "metadata": {},
   "source": [
    "## Produce real-image dataset for training discriminator"
   ]
  },
  {
   "cell_type": "code",
   "execution_count": null,
   "id": "b2abc837",
   "metadata": {},
   "outputs": [],
   "source": [
    "def generate_real_samples(dataset, n):\n",
    "    ind = randint(0, dataset.shape[0], n_samples)"
   ]
  }
 ],
 "metadata": {
  "kernelspec": {
   "display_name": "Python 3",
   "language": "python",
   "name": "python3"
  },
  "language_info": {
   "codemirror_mode": {
    "name": "ipython",
    "version": 3
   },
   "file_extension": ".py",
   "mimetype": "text/x-python",
   "name": "python",
   "nbconvert_exporter": "python",
   "pygments_lexer": "ipython3",
   "version": "3.8.10"
  }
 },
 "nbformat": 4,
 "nbformat_minor": 5
}
