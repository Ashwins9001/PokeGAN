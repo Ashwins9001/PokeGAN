{
  "nbformat": 4,
  "nbformat_minor": 5,
  "metadata": {
    "kernelspec": {
      "display_name": "Python 3",
      "language": "python",
      "name": "python3"
    },
    "language_info": {
      "codemirror_mode": {
        "name": "ipython",
        "version": 3
      },
      "file_extension": ".py",
      "mimetype": "text/x-python",
      "name": "python",
      "nbconvert_exporter": "python",
      "pygments_lexer": "ipython3",
      "version": "3.8.10"
    },
    "colab": {
      "name": "PokeGAN.ipynb",
      "provenance": []
    },
    "accelerator": "GPU"
  },
  "cells": [
    {
      "cell_type": "markdown",
      "metadata": {
        "id": "f8dbb521"
      },
      "source": [
        "## Prepare images for training\n",
        "\n",
        "Resize images to 64 x 64 x 1. For simplicity's sake, only use single channel from RGB images."
      ],
      "id": "f8dbb521"
    },
    {
      "cell_type": "code",
      "metadata": {
        "id": "f541eea3"
      },
      "source": [
        "from matplotlib import image\n",
        "from os import listdir\n",
        "from PIL import Image\n",
        "import numpy as np\n",
        "from numpy import expand_dims\n",
        "\n",
        "\n",
        "def load_samples():\n",
        "    loaded_img = []\n",
        "\n",
        "    for file in listdir('/content/sample_data/pokemon_data/'):\n",
        "        img = Image.open('/content/sample_data/pokemon_data/' + file)\n",
        "        red, green, blue = img.split()\n",
        "        img_resized = red.resize((64, 64))\n",
        "        im2arr = np.array(img_resized)\n",
        "        loaded_img.append(im2arr)\n",
        "\n",
        "    X = np.asarray(loaded_img)\n",
        "    X = expand_dims(X, axis=-1)\n",
        "    X = X.astype('float32')\n",
        "    X = X / 255.0\n",
        "    return X"
      ],
      "id": "f541eea3",
      "execution_count": 1,
      "outputs": []
    },
    {
      "cell_type": "markdown",
      "metadata": {
        "id": "42a3f82d"
      },
      "source": [
        "## Produce discriminator architecture\n",
        "\n",
        "Use Leaky ReLU activation function after convolutions to reduce vanishing gradient problem to ensure better training for kernels. Additionally use Leaky ReLU  to add non-linearity to improve variance in learned kernels and allow model to adapt to various features.\n",
        "\n",
        "Apply dropout layers as well to possibly remove some outputs and reduce overfitting.\n",
        "\n",
        "Discriminator compresses images down into feature space. It is trained on real and fake images; therefore model is a convolutional neural network for binary-classification. "
      ],
      "id": "42a3f82d"
    },
    {
      "cell_type": "code",
      "metadata": {
        "id": "a8465630",
        "colab": {
          "base_uri": "https://localhost:8080/"
        },
        "outputId": "662fdefc-b5cf-476d-ad55-5733f889d5ef"
      },
      "source": [
        "from keras.models import Sequential\n",
        "from keras.optimizers import Adam\n",
        "from keras.layers import Dense\n",
        "from keras.layers import Conv2D\n",
        "from keras.layers import Flatten\n",
        "from keras.layers import Dropout\n",
        "from keras.layers import LeakyReLU\n",
        "from keras.utils.vis_utils import plot_model\n",
        "\n",
        "def discriminator(in_shape=(64, 64, 1)):\n",
        "    model = Sequential()\n",
        "    model.add(Conv2D(64, (3, 3), strides=(4, 4), padding='same', input_shape=in_shape))\n",
        "    model.add(LeakyReLU(alpha=0.2))\n",
        "    model.add(Dropout(0.4))\n",
        "    model.add(Conv2D(64, (3, 3), strides=(2, 2), padding='same'))\n",
        "    model.add(LeakyReLU(alpha=0.2))\n",
        "    model.add(Dropout(0.4))\n",
        "    model.add(Flatten())\n",
        "    model.add(Dense(1, activation='sigmoid'))\n",
        "    \n",
        "    opt = Adam(lr=0.0002, beta_1=0.5)\n",
        "    model.compile(loss='binary_crossentropy', optimizer=opt, metrics=['accuracy'])\n",
        "    return model\n",
        "\n",
        "model = discriminator()\n",
        "model.summary()"
      ],
      "id": "a8465630",
      "execution_count": 2,
      "outputs": [
        {
          "output_type": "stream",
          "text": [
            "Model: \"sequential\"\n",
            "_________________________________________________________________\n",
            "Layer (type)                 Output Shape              Param #   \n",
            "=================================================================\n",
            "conv2d (Conv2D)              (None, 16, 16, 64)        640       \n",
            "_________________________________________________________________\n",
            "leaky_re_lu (LeakyReLU)      (None, 16, 16, 64)        0         \n",
            "_________________________________________________________________\n",
            "dropout (Dropout)            (None, 16, 16, 64)        0         \n",
            "_________________________________________________________________\n",
            "conv2d_1 (Conv2D)            (None, 8, 8, 64)          36928     \n",
            "_________________________________________________________________\n",
            "leaky_re_lu_1 (LeakyReLU)    (None, 8, 8, 64)          0         \n",
            "_________________________________________________________________\n",
            "dropout_1 (Dropout)          (None, 8, 8, 64)          0         \n",
            "_________________________________________________________________\n",
            "flatten (Flatten)            (None, 4096)              0         \n",
            "_________________________________________________________________\n",
            "dense (Dense)                (None, 1)                 4097      \n",
            "=================================================================\n",
            "Total params: 41,665\n",
            "Trainable params: 41,665\n",
            "Non-trainable params: 0\n",
            "_________________________________________________________________\n"
          ],
          "name": "stdout"
        },
        {
          "output_type": "stream",
          "text": [
            "/usr/local/lib/python3.7/dist-packages/tensorflow/python/keras/optimizer_v2/optimizer_v2.py:375: UserWarning: The `lr` argument is deprecated, use `learning_rate` instead.\n",
            "  \"The `lr` argument is deprecated, use `learning_rate` instead.\")\n"
          ],
          "name": "stderr"
        }
      ]
    },
    {
      "cell_type": "markdown",
      "metadata": {
        "id": "97dd4ab4"
      },
      "source": [
        "## Load in all pokemon image samples"
      ],
      "id": "97dd4ab4"
    },
    {
      "cell_type": "code",
      "metadata": {
        "id": "92a99268",
        "colab": {
          "base_uri": "https://localhost:8080/"
        },
        "outputId": "e8c4e515-2e1c-44fd-9896-03e7e57ef9d8"
      },
      "source": [
        "trainX = load_samples()\n",
        "trainX.shape"
      ],
      "id": "92a99268",
      "execution_count": 3,
      "outputs": [
        {
          "output_type": "execute_result",
          "data": {
            "text/plain": [
              "(819, 64, 64, 1)"
            ]
          },
          "metadata": {
            "tags": []
          },
          "execution_count": 3
        }
      ]
    },
    {
      "cell_type": "markdown",
      "metadata": {
        "id": "746772cc"
      },
      "source": [
        "## Produce real-image dataset for training discriminator\n",
        "\n",
        "Select random images from existing dataset and assign real class label"
      ],
      "id": "746772cc"
    },
    {
      "cell_type": "code",
      "metadata": {
        "id": "9cb5fe92"
      },
      "source": [
        "from numpy import ones\n",
        "from numpy import zeros\n",
        "from numpy.random import rand\n",
        "from numpy.random import randint\n",
        "\n",
        "def generate_real_samples(dataset, n):\n",
        "    ind = randint(0, dataset.shape[0], n)\n",
        "    X = dataset[ind]\n",
        "    y = ones((n, 1))\n",
        "    return X, y"
      ],
      "id": "9cb5fe92",
      "execution_count": 4,
      "outputs": []
    },
    {
      "cell_type": "markdown",
      "metadata": {
        "id": "000d84dc"
      },
      "source": [
        "## Produce fake-image dataset for training discriminator\n",
        "\n",
        "Create pixel-space for however many image samples are selected. Then transform the pixel space into n random images and provide a class label."
      ],
      "id": "000d84dc"
    },
    {
      "cell_type": "code",
      "metadata": {
        "id": "1cdf8860"
      },
      "source": [
        "def generate_fake_samples(n):\n",
        "    X = rand(64 * 64 * n)\n",
        "    X = X.reshape((n, 64, 64, 1))\n",
        "    y = zeros((n, 1))\n",
        "    return X, y"
      ],
      "id": "1cdf8860",
      "execution_count": 5,
      "outputs": []
    },
    {
      "cell_type": "markdown",
      "metadata": {
        "id": "34761505"
      },
      "source": [
        "## Train discriminator\n",
        "\n",
        "Adjust kernel weights per each batch then check prediction accuracy. Train and test splits handled in background by function, train_on_batch().\n",
        "\n",
        "Keras by default ignores first dimension of input, therefore even though fake and real samples have shape (n, 64, 64, 1), Keras will read it in as (64, 64, 1) and work correctly.\n",
        "\n",
        "Additionally train_on_batch() is a specialised training algorithm as opposed to fit(). Training in batches reduces memory overhead and reduces processing time. \n",
        "\n",
        "Notice fast convergence of algorithm. Due to strongly randomized fake images it works quickly, however later when discriminator competes with generator, training time will increase."
      ],
      "id": "34761505"
    },
    {
      "cell_type": "code",
      "metadata": {
        "id": "3e62a59a",
        "colab": {
          "base_uri": "https://localhost:8080/"
        },
        "outputId": "a7705a8a-369d-45c4-fc5a-da874b5ebee3"
      },
      "source": [
        "def train_discriminator(model, dataset, n_iter=100, n_batch=128):\n",
        "    half_batch = int(n_batch/2)\n",
        "    \n",
        "    for i in range(n_iter):\n",
        "        X_real, y_real = generate_real_samples(dataset, half_batch)\n",
        "        _, real_acc = model.train_on_batch(X_real, y_real)\n",
        "        X_fake, y_fake = generate_fake_samples(half_batch)\n",
        "        _, fake_acc = model.train_on_batch(X_fake, y_fake)\n",
        "        print('>%d real=%.0f%% fake=%.0f%%' % (i+1, real_acc*100, fake_acc*100))\n",
        "\n",
        "model = discriminator()\n",
        "train_discriminator(model, trainX)"
      ],
      "id": "3e62a59a",
      "execution_count": 6,
      "outputs": [
        {
          "output_type": "stream",
          "text": [
            "/usr/local/lib/python3.7/dist-packages/tensorflow/python/keras/optimizer_v2/optimizer_v2.py:375: UserWarning: The `lr` argument is deprecated, use `learning_rate` instead.\n",
            "  \"The `lr` argument is deprecated, use `learning_rate` instead.\")\n"
          ],
          "name": "stderr"
        },
        {
          "output_type": "stream",
          "text": [
            ">1 real=56% fake=27%\n",
            ">2 real=81% fake=9%\n",
            ">3 real=89% fake=12%\n",
            ">4 real=88% fake=5%\n",
            ">5 real=94% fake=3%\n",
            ">6 real=94% fake=6%\n",
            ">7 real=95% fake=6%\n",
            ">8 real=95% fake=5%\n",
            ">9 real=95% fake=5%\n",
            ">10 real=97% fake=2%\n",
            ">11 real=98% fake=5%\n",
            ">12 real=100% fake=2%\n",
            ">13 real=98% fake=0%\n",
            ">14 real=100% fake=2%\n",
            ">15 real=100% fake=2%\n",
            ">16 real=100% fake=0%\n",
            ">17 real=100% fake=0%\n",
            ">18 real=100% fake=0%\n",
            ">19 real=100% fake=0%\n",
            ">20 real=100% fake=0%\n",
            ">21 real=100% fake=0%\n",
            ">22 real=100% fake=2%\n",
            ">23 real=100% fake=2%\n",
            ">24 real=100% fake=2%\n",
            ">25 real=100% fake=2%\n",
            ">26 real=100% fake=2%\n",
            ">27 real=100% fake=0%\n",
            ">28 real=100% fake=2%\n",
            ">29 real=100% fake=5%\n",
            ">30 real=100% fake=2%\n",
            ">31 real=100% fake=5%\n",
            ">32 real=100% fake=6%\n",
            ">33 real=100% fake=3%\n",
            ">34 real=100% fake=5%\n",
            ">35 real=100% fake=2%\n",
            ">36 real=100% fake=11%\n",
            ">37 real=100% fake=11%\n",
            ">38 real=100% fake=8%\n",
            ">39 real=100% fake=19%\n",
            ">40 real=100% fake=11%\n",
            ">41 real=100% fake=19%\n",
            ">42 real=100% fake=23%\n",
            ">43 real=100% fake=41%\n",
            ">44 real=100% fake=27%\n",
            ">45 real=100% fake=53%\n",
            ">46 real=100% fake=55%\n",
            ">47 real=100% fake=66%\n",
            ">48 real=100% fake=69%\n",
            ">49 real=100% fake=77%\n",
            ">50 real=100% fake=70%\n",
            ">51 real=100% fake=86%\n",
            ">52 real=100% fake=89%\n",
            ">53 real=100% fake=94%\n",
            ">54 real=100% fake=97%\n",
            ">55 real=100% fake=98%\n",
            ">56 real=100% fake=98%\n",
            ">57 real=100% fake=100%\n",
            ">58 real=100% fake=100%\n",
            ">59 real=100% fake=100%\n",
            ">60 real=100% fake=100%\n",
            ">61 real=100% fake=100%\n",
            ">62 real=100% fake=100%\n",
            ">63 real=100% fake=100%\n",
            ">64 real=100% fake=100%\n",
            ">65 real=100% fake=100%\n",
            ">66 real=100% fake=100%\n",
            ">67 real=100% fake=100%\n",
            ">68 real=100% fake=100%\n",
            ">69 real=100% fake=100%\n",
            ">70 real=100% fake=100%\n",
            ">71 real=100% fake=100%\n",
            ">72 real=100% fake=100%\n",
            ">73 real=100% fake=100%\n",
            ">74 real=100% fake=100%\n",
            ">75 real=100% fake=100%\n",
            ">76 real=100% fake=100%\n",
            ">77 real=100% fake=100%\n",
            ">78 real=100% fake=100%\n",
            ">79 real=100% fake=100%\n",
            ">80 real=100% fake=100%\n",
            ">81 real=100% fake=100%\n",
            ">82 real=100% fake=100%\n",
            ">83 real=100% fake=100%\n",
            ">84 real=100% fake=100%\n",
            ">85 real=100% fake=100%\n",
            ">86 real=100% fake=100%\n",
            ">87 real=100% fake=100%\n",
            ">88 real=100% fake=100%\n",
            ">89 real=100% fake=100%\n",
            ">90 real=100% fake=100%\n",
            ">91 real=100% fake=100%\n",
            ">92 real=100% fake=100%\n",
            ">93 real=100% fake=100%\n",
            ">94 real=100% fake=100%\n",
            ">95 real=100% fake=100%\n",
            ">96 real=100% fake=100%\n",
            ">97 real=100% fake=100%\n",
            ">98 real=100% fake=100%\n",
            ">99 real=100% fake=100%\n",
            ">100 real=100% fake=100%\n"
          ],
          "name": "stdout"
        }
      ]
    },
    {
      "cell_type": "markdown",
      "metadata": {
        "id": "04fd7bfc"
      },
      "source": [
        "## Create generator\n",
        "Generator learns to map 100-dim input vector to images by using multiple upsampling operations (transpose-convolutions) and then outputting a regularized image. \n",
        "\n",
        "First dense layer creates pixel-space for 128, 16 x 16 images, and maps the 100-dim vector to that pixel-space.\n",
        "\n",
        "Applies multiple kernels to learn mapping more accurately for added variance."
      ],
      "id": "04fd7bfc"
    },
    {
      "cell_type": "code",
      "metadata": {
        "id": "e7ad0833",
        "colab": {
          "base_uri": "https://localhost:8080/"
        },
        "outputId": "0729ee07-a7a1-41d1-a5d0-8fb4e06331e6"
      },
      "source": [
        "from keras.layers import Reshape\n",
        "from keras.layers import Conv2DTranspose\n",
        "\n",
        "def generator(latent_dim):\n",
        "    model = Sequential()\n",
        "    n_nodes = 128 * 16 * 16\n",
        "    \n",
        "    model.add(Dense(n_nodes, input_dim=latent_dim))\n",
        "    model.add(LeakyReLU(alpha=0.2))\n",
        "    model.add(Reshape((16, 16, 128)))\n",
        "    model.add(Conv2DTranspose(128, (4, 4), strides=(2, 2), padding='same'))\n",
        "    model.add(LeakyReLU(alpha=0.2))\n",
        "    model.add(Conv2DTranspose(128, (4, 4), strides=(2, 2), padding='same'))\n",
        "    model.add(LeakyReLU(alpha=0.2))\n",
        "    model.add(Conv2D(1, (16, 16), activation='sigmoid', padding='same'))\n",
        "    return model\n",
        "    \n",
        "latent_dim = 100\n",
        "model = generator(latent_dim)\n",
        "model.summary()"
      ],
      "id": "e7ad0833",
      "execution_count": 7,
      "outputs": [
        {
          "output_type": "stream",
          "text": [
            "Model: \"sequential_2\"\n",
            "_________________________________________________________________\n",
            "Layer (type)                 Output Shape              Param #   \n",
            "=================================================================\n",
            "dense_2 (Dense)              (None, 32768)             3309568   \n",
            "_________________________________________________________________\n",
            "leaky_re_lu_4 (LeakyReLU)    (None, 32768)             0         \n",
            "_________________________________________________________________\n",
            "reshape (Reshape)            (None, 16, 16, 128)       0         \n",
            "_________________________________________________________________\n",
            "conv2d_transpose (Conv2DTran (None, 32, 32, 128)       262272    \n",
            "_________________________________________________________________\n",
            "leaky_re_lu_5 (LeakyReLU)    (None, 32, 32, 128)       0         \n",
            "_________________________________________________________________\n",
            "conv2d_transpose_1 (Conv2DTr (None, 64, 64, 128)       262272    \n",
            "_________________________________________________________________\n",
            "leaky_re_lu_6 (LeakyReLU)    (None, 64, 64, 128)       0         \n",
            "_________________________________________________________________\n",
            "conv2d_4 (Conv2D)            (None, 64, 64, 1)         32769     \n",
            "=================================================================\n",
            "Total params: 3,866,881\n",
            "Trainable params: 3,866,881\n",
            "Non-trainable params: 0\n",
            "_________________________________________________________________\n"
          ],
          "name": "stdout"
        }
      ]
    },
    {
      "cell_type": "markdown",
      "metadata": {
        "id": "c3012e84"
      },
      "source": [
        "Generate latent space for generator to learn to associate vectors to images with by creating random points and reshaping into a 100-dim vector. Then let untrained generator produce images from latent space."
      ],
      "id": "c3012e84"
    },
    {
      "cell_type": "code",
      "metadata": {
        "id": "f77d43df"
      },
      "source": [
        "def generate_latent_points(latent_dim, n_samples):\n",
        "    x_input = randn(latent_dim * n_samples)\n",
        "    x_input = x_input.reshape(n_samples, latent_dim)\n",
        "    return x_input"
      ],
      "id": "f77d43df",
      "execution_count": 8,
      "outputs": []
    },
    {
      "cell_type": "code",
      "metadata": {
        "id": "d848a570"
      },
      "source": [
        "def generate_fake_samples(g_model, latent_dim, n_samples):\n",
        "    x_input = generate_latent_points(latent_dim, n_samples)\n",
        "    X = g_model.predict(x_input)\n",
        "    y = zeros((n_samples, 1))\n",
        "    return X, y"
      ],
      "id": "d848a570",
      "execution_count": 9,
      "outputs": []
    },
    {
      "cell_type": "markdown",
      "metadata": {
        "id": "c975526f"
      },
      "source": [
        "## Display generated images from (untrained) generator"
      ],
      "id": "c975526f"
    },
    {
      "cell_type": "code",
      "metadata": {
        "id": "834053c6",
        "colab": {
          "base_uri": "https://localhost:8080/",
          "height": 248
        },
        "outputId": "5a8d6187-6d72-45e7-dec0-4801be31ea19"
      },
      "source": [
        "from matplotlib import pyplot\n",
        "from numpy.random import randn\n",
        "\n",
        "n_samples = 25\n",
        "X, _ = generate_fake_samples(model, latent_dim, n_samples)\n",
        "for i in range(n_samples):\n",
        "    pyplot.subplot(5, 5, 1 + i)\n",
        "    pyplot.axis('off')\n",
        "    pyplot.imshow(X[i, :, :, 0], cmap='gray_r')\n",
        "\n",
        "pyplot.show()"
      ],
      "id": "834053c6",
      "execution_count": 10,
      "outputs": [
        {
          "output_type": "display_data",
          "data": {
            "image/png": "[encoded data removed]",
            "text/plain": [
              "<Figure size 432x288 with 25 Axes>"
            ]
          },
          "metadata": {
            "tags": [],
            "needs_background": "light"
          }
        }
      ]
    },
    {
      "cell_type": "markdown",
      "metadata": {
        "id": "f6e898f4"
      },
      "source": [
        "## Formulate GAN\n",
        "GAN is composed of generator and discriminator. The generator produces samples that are always classifed as real and fed into the discriminator. The discriminator then classifies the samples are real or fake, and its weights are not adjusted as it is trained beforehand.\n",
        "\n",
        "When a fake sample is produced by the generator, but classified as real, then the discriminator will classify it as fake (as intended). This creates a large training error and drives the entire GAN to adjust its weights thereby making the generator produce better fake samples. \n",
        "\n",
        "Therefore model performance and training accuracy is contingent upon the discriminator correctly classifying samples.\n",
        "\n",
        "Entire GAN takes a point in latent space, generates an image from it and classifies it using the discriminator. Therefore the intuitive architecture is a generator network that feeds into a discriminator network"
      ],
      "id": "f6e898f4"
    },
    {
      "cell_type": "code",
      "metadata": {
        "id": "b934c1e3",
        "colab": {
          "base_uri": "https://localhost:8080/"
        },
        "outputId": "daff67d2-0465-496a-f02f-18e5e8ab6d88"
      },
      "source": [
        "def gan(g_model, d_model):\n",
        "    d_model.trainable = False\n",
        "    model = Sequential()\n",
        "    model.add(g_model)\n",
        "    model.add(d_model)\n",
        "    opt = Adam(lr=0.0002, beta_1 = 0.5)\n",
        "    model.compile(loss='binary_crossentropy', optimizer=opt)\n",
        "    return model\n",
        "latent_dim = 100\n",
        "d_model = discriminator()\n",
        "g_model = generator(latent_dim)\n",
        "gan_model = gan(g_model, d_model)\n",
        "gan_model.summary()"
      ],
      "id": "b934c1e3",
      "execution_count": 11,
      "outputs": [
        {
          "output_type": "stream",
          "text": [
            "Model: \"sequential_5\"\n",
            "_________________________________________________________________\n",
            "Layer (type)                 Output Shape              Param #   \n",
            "=================================================================\n",
            "sequential_4 (Sequential)    (None, 64, 64, 1)         3866881   \n",
            "_________________________________________________________________\n",
            "sequential_3 (Sequential)    (None, 1)                 41665     \n",
            "=================================================================\n",
            "Total params: 3,908,546\n",
            "Trainable params: 3,866,881\n",
            "Non-trainable params: 41,665\n",
            "_________________________________________________________________\n"
          ],
          "name": "stdout"
        },
        {
          "output_type": "stream",
          "text": [
            "/usr/local/lib/python3.7/dist-packages/tensorflow/python/keras/optimizer_v2/optimizer_v2.py:375: UserWarning: The `lr` argument is deprecated, use `learning_rate` instead.\n",
            "  \"The `lr` argument is deprecated, use `learning_rate` instead.\")\n"
          ],
          "name": "stderr"
        }
      ]
    },
    {
      "cell_type": "markdown",
      "metadata": {
        "id": "bf70cb05"
      },
      "source": [
        "## Saving the Model and Images\n",
        "Save GAN weights every few training iterations and additionally plot produced images"
      ],
      "id": "bf70cb05"
    },
    {
      "cell_type": "code",
      "metadata": {
        "id": "45c1d661"
      },
      "source": [
        "def save_plot(examples, epoch, n=10):\n",
        "    for i in range(n * n):\n",
        "        pyplot.subplot(n, n, 1 + i)\n",
        "        pyplot.axis('off')\n",
        "        pyplot.imshow(examples[i, :, :, 0], cmap='gray_r')\n",
        "    filename = 'generated_plot_e%03d.png' % (epoch+1)\n",
        "    pyplot.savefig(filename)\n",
        "    pyplot.close()"
      ],
      "id": "45c1d661",
      "execution_count": 12,
      "outputs": []
    },
    {
      "cell_type": "markdown",
      "metadata": {
        "id": "d21640fe"
      },
      "source": [
        "## Evaluating the Model\n",
        "Cannot objectively evaluate error for generator as it directly feeds into discriminator and overall GAN's performance is evaluated. \n",
        "\n",
        "However to isolate the generator's performance, can evaluate classification accuracy of the discriminator, generate images for review and save the generator model for image production later on\n"
      ],
      "id": "d21640fe"
    },
    {
      "cell_type": "code",
      "metadata": {
        "id": "936df285"
      },
      "source": [
        "def summarize_performance(epoch, g_model, d_model, dataset, latent_dim, n_samples=100):\n",
        "    X_real, y_real = generate_real_samples(dataset, n_samples)\n",
        "    _, acc_real = d_model.evaluate(X_real, y_real, verbose=0)\n",
        "    x_fake, y_fake = generate_fake_samples(g_model, latent_dim, n_samples)\n",
        "    _, acc_fake = d_model.evaluate(x_fake, y_fake, verbose=0)\n",
        "    print('>Accuracy real: %.0f%%, fake: %.0f%%' % (acc_real*100, acc_fake*100))\n",
        "    \n",
        "    save_plot(x_fake, epoch)\n",
        "    filename = 'generator_model_%03d.h5' % (epoch + 1)\n",
        "    g_model.save(filename)"
      ],
      "id": "936df285",
      "execution_count": 15,
      "outputs": []
    },
    {
      "cell_type": "markdown",
      "metadata": {
        "id": "97a07c1f"
      },
      "source": [
        "## Training the GAN\n",
        "Formulate n latent space vectors and pass in to the network. Each vector corresponds to a generated image that is assumed to be real (1), therefore the output per each sample is 1. \n",
        "\n",
        "Train the GAN by the above mentioned data flow until the discriminator makes the generator produce better fake samples.\n",
        "\n",
        "Must train the discriminator first to identify real and fake samples. Then afterwards freeze the discriminator's weights and layers and use it in the composite GAN model to train the generator until it produces better fakes. Therefore both training functions must be utilized for all parts to work together.\n",
        "\n",
        "Generate real and fake samples, then stack all sample tuples (of images and classes) along the rows by applying vstack. Train the discriminator on the mixed sample set. Then generate multiple samples using the generator and train those using the discriminator. Repeat the process for multiple batches "
      ],
      "id": "97a07c1f"
    },
    {
      "cell_type": "code",
      "metadata": {
        "id": "01b06d63",
        "colab": {
          "base_uri": "https://localhost:8080/"
        },
        "outputId": "93d00f96-ffa3-4f41-a22a-39e25c56caaa"
      },
      "source": [
        "from numpy import vstack\n",
        "def train(g_model, d_model, gan_model, dataset, latent_dim, n_epochs=100, n_batch=256):\n",
        "    bat_per_repo = int(dataset.shape[0]/n_batch)\n",
        "    half_batch = int(n_batch / 2)\n",
        "    \n",
        "    for i in range(n_epochs):\n",
        "        \n",
        "        if(i+1) % 10 == 0:\n",
        "            summarize_performance(i, g_model, d_model, dataset, latent_dim)\n",
        "        \n",
        "        for j in range(bat_per_repo):\n",
        "            X_real, y_real = generate_real_samples(dataset, half_batch)\n",
        "            X_fake, y_fake = generate_fake_samples(g_model, latent_dim, half_batch)\n",
        "            X, y = vstack((X_real, X_fake)), vstack((y_real, y_fake))\n",
        "            d_loss, _ = d_model.train_on_batch(X, y)\n",
        "            X_gan = generate_latent_points(latent_dim, n_batch)\n",
        "            y_gan = ones((n_batch, 1))\n",
        "            g_loss = gan_model.train_on_batch(X_gan, y_gan)\n",
        "            print('>%d, %d/%d, d=%.3f, g=%.3f' % (i+1, j+1, bat_per_repo, d_loss, g_loss))\n",
        "            \n",
        "train(g_model, d_model, gan_model, trainX, latent_dim)"
      ],
      "id": "01b06d63",
      "execution_count": 16,
      "outputs": [
        {
          "output_type": "stream",
          "text": [
            ">1, 1/3, d=0.656, g=0.733\n",
            ">1, 2/3, d=0.666, g=0.700\n",
            ">1, 3/3, d=0.668, g=0.670\n",
            ">2, 1/3, d=0.667, g=0.653\n",
            ">2, 2/3, d=0.668, g=0.628\n",
            ">2, 3/3, d=0.684, g=0.642\n",
            ">3, 1/3, d=0.674, g=0.656\n",
            ">3, 2/3, d=0.684, g=0.662\n",
            ">3, 3/3, d=0.682, g=0.667\n",
            ">4, 1/3, d=0.713, g=0.644\n",
            ">4, 2/3, d=0.717, g=0.627\n",
            ">4, 3/3, d=0.717, g=0.608\n",
            ">5, 1/3, d=0.721, g=0.583\n",
            ">5, 2/3, d=0.736, g=0.572\n",
            ">5, 3/3, d=0.752, g=0.563\n",
            ">6, 1/3, d=0.748, g=0.553\n",
            ">6, 2/3, d=0.749, g=0.559\n",
            ">6, 3/3, d=0.744, g=0.564\n",
            ">7, 1/3, d=0.739, g=0.565\n",
            ">7, 2/3, d=0.730, g=0.575\n",
            ">7, 3/3, d=0.727, g=0.585\n",
            ">8, 1/3, d=0.722, g=0.596\n",
            ">8, 2/3, d=0.712, g=0.619\n",
            ">8, 3/3, d=0.716, g=0.637\n",
            ">9, 1/3, d=0.699, g=0.644\n",
            ">9, 2/3, d=0.692, g=0.657\n",
            ">9, 3/3, d=0.687, g=0.686\n",
            ">Accuracy real: 100%, fake: 25%\n",
            "WARNING:tensorflow:Compiled the loaded model, but the compiled metrics have yet to be built. `model.compile_metrics` will be empty until you train or evaluate the model.\n",
            ">10, 1/3, d=0.689, g=0.704\n",
            ">10, 2/3, d=0.681, g=0.718\n",
            ">10, 3/3, d=0.684, g=0.726\n",
            ">11, 1/3, d=0.692, g=0.736\n",
            ">11, 2/3, d=0.693, g=0.758\n",
            ">11, 3/3, d=0.686, g=0.775\n",
            ">12, 1/3, d=0.680, g=0.782\n",
            ">12, 2/3, d=0.692, g=0.785\n",
            ">12, 3/3, d=0.684, g=0.791\n",
            ">13, 1/3, d=0.682, g=0.800\n",
            ">13, 2/3, d=0.681, g=0.802\n",
            ">13, 3/3, d=0.685, g=0.804\n",
            ">14, 1/3, d=0.684, g=0.803\n",
            ">14, 2/3, d=0.681, g=0.800\n",
            ">14, 3/3, d=0.682, g=0.789\n",
            ">15, 1/3, d=0.692, g=0.793\n",
            ">15, 2/3, d=0.689, g=0.793\n",
            ">15, 3/3, d=0.685, g=0.790\n",
            ">16, 1/3, d=0.678, g=0.793\n",
            ">16, 2/3, d=0.682, g=0.766\n",
            ">16, 3/3, d=0.689, g=0.762\n",
            ">17, 1/3, d=0.689, g=0.734\n",
            ">17, 2/3, d=0.697, g=0.694\n",
            ">17, 3/3, d=0.717, g=0.664\n",
            ">18, 1/3, d=0.717, g=0.627\n",
            ">18, 2/3, d=0.713, g=0.605\n",
            ">18, 3/3, d=0.702, g=0.588\n",
            ">19, 1/3, d=0.707, g=0.584\n",
            ">19, 2/3, d=0.703, g=0.588\n",
            ">19, 3/3, d=0.708, g=0.624\n",
            ">Accuracy real: 100%, fake: 0%\n",
            "WARNING:tensorflow:Compiled the loaded model, but the compiled metrics have yet to be built. `model.compile_metrics` will be empty until you train or evaluate the model.\n",
            ">20, 1/3, d=0.718, g=0.644\n",
            ">20, 2/3, d=0.702, g=0.672\n",
            ">20, 3/3, d=0.697, g=0.701\n",
            ">21, 1/3, d=0.700, g=0.721\n",
            ">21, 2/3, d=0.694, g=0.741\n",
            ">21, 3/3, d=0.702, g=0.731\n",
            ">22, 1/3, d=0.692, g=0.746\n",
            ">22, 2/3, d=0.697, g=0.751\n",
            ">22, 3/3, d=0.705, g=0.749\n",
            ">23, 1/3, d=0.704, g=0.741\n",
            ">23, 2/3, d=0.698, g=0.744\n",
            ">23, 3/3, d=0.701, g=0.734\n",
            ">24, 1/3, d=0.695, g=0.731\n",
            ">24, 2/3, d=0.701, g=0.724\n",
            ">24, 3/3, d=0.695, g=0.729\n",
            ">25, 1/3, d=0.710, g=0.729\n",
            ">25, 2/3, d=0.703, g=0.724\n",
            ">25, 3/3, d=0.707, g=0.718\n",
            ">26, 1/3, d=0.712, g=0.707\n",
            ">26, 2/3, d=0.704, g=0.715\n",
            ">26, 3/3, d=0.702, g=0.703\n",
            ">27, 1/3, d=0.705, g=0.708\n",
            ">27, 2/3, d=0.695, g=0.712\n",
            ">27, 3/3, d=0.695, g=0.705\n",
            ">28, 1/3, d=0.694, g=0.717\n",
            ">28, 2/3, d=0.697, g=0.719\n",
            ">28, 3/3, d=0.690, g=0.723\n",
            ">29, 1/3, d=0.688, g=0.729\n",
            ">29, 2/3, d=0.686, g=0.724\n",
            ">29, 3/3, d=0.693, g=0.733\n",
            ">Accuracy real: 10%, fake: 91%\n",
            "WARNING:tensorflow:Compiled the loaded model, but the compiled metrics have yet to be built. `model.compile_metrics` will be empty until you train or evaluate the model.\n",
            ">30, 1/3, d=0.684, g=0.736\n",
            ">30, 2/3, d=0.688, g=0.731\n",
            ">30, 3/3, d=0.694, g=0.737\n",
            ">31, 1/3, d=0.686, g=0.722\n",
            ">31, 2/3, d=0.687, g=0.718\n",
            ">31, 3/3, d=0.687, g=0.716\n",
            ">32, 1/3, d=0.688, g=0.713\n",
            ">32, 2/3, d=0.693, g=0.721\n",
            ">32, 3/3, d=0.687, g=0.720\n",
            ">33, 1/3, d=0.691, g=0.715\n",
            ">33, 2/3, d=0.686, g=0.704\n",
            ">33, 3/3, d=0.687, g=0.702\n",
            ">34, 1/3, d=0.696, g=0.694\n",
            ">34, 2/3, d=0.697, g=0.683\n",
            ">34, 3/3, d=0.696, g=0.681\n",
            ">35, 1/3, d=0.693, g=0.666\n",
            ">35, 2/3, d=0.692, g=0.663\n",
            ">35, 3/3, d=0.698, g=0.663\n",
            ">36, 1/3, d=0.703, g=0.652\n",
            ">36, 2/3, d=0.697, g=0.638\n",
            ">36, 3/3, d=0.708, g=0.635\n",
            ">37, 1/3, d=0.705, g=0.631\n",
            ">37, 2/3, d=0.708, g=0.630\n",
            ">37, 3/3, d=0.706, g=0.633\n",
            ">38, 1/3, d=0.703, g=0.637\n",
            ">38, 2/3, d=0.706, g=0.649\n",
            ">38, 3/3, d=0.696, g=0.656\n",
            ">39, 1/3, d=0.691, g=0.657\n",
            ">39, 2/3, d=0.689, g=0.656\n",
            ">39, 3/3, d=0.686, g=0.669\n",
            ">Accuracy real: 100%, fake: 2%\n",
            "WARNING:tensorflow:Compiled the loaded model, but the compiled metrics have yet to be built. `model.compile_metrics` will be empty until you train or evaluate the model.\n",
            ">40, 1/3, d=0.704, g=0.676\n",
            ">40, 2/3, d=0.683, g=0.684\n",
            ">40, 3/3, d=0.683, g=0.691\n",
            ">41, 1/3, d=0.679, g=0.692\n",
            ">41, 2/3, d=0.685, g=0.686\n",
            ">41, 3/3, d=0.688, g=0.692\n",
            ">42, 1/3, d=0.678, g=0.685\n",
            ">42, 2/3, d=0.685, g=0.699\n",
            ">42, 3/3, d=0.690, g=0.698\n",
            ">43, 1/3, d=0.695, g=0.702\n",
            ">43, 2/3, d=0.693, g=0.691\n",
            ">43, 3/3, d=0.703, g=0.682\n",
            ">44, 1/3, d=0.706, g=0.667\n",
            ">44, 2/3, d=0.709, g=0.643\n",
            ">44, 3/3, d=0.710, g=0.626\n",
            ">45, 1/3, d=0.711, g=0.608\n",
            ">45, 2/3, d=0.709, g=0.603\n",
            ">45, 3/3, d=0.707, g=0.610\n",
            ">46, 1/3, d=0.707, g=0.615\n",
            ">46, 2/3, d=0.708, g=0.622\n",
            ">46, 3/3, d=0.705, g=0.615\n",
            ">47, 1/3, d=0.707, g=0.615\n",
            ">47, 2/3, d=0.705, g=0.612\n",
            ">47, 3/3, d=0.710, g=0.610\n",
            ">48, 1/3, d=0.705, g=0.602\n",
            ">48, 2/3, d=0.708, g=0.607\n",
            ">48, 3/3, d=0.704, g=0.608\n",
            ">49, 1/3, d=0.704, g=0.612\n",
            ">49, 2/3, d=0.706, g=0.620\n",
            ">49, 3/3, d=0.702, g=0.622\n",
            ">Accuracy real: 100%, fake: 0%\n",
            "WARNING:tensorflow:Compiled the loaded model, but the compiled metrics have yet to be built. `model.compile_metrics` will be empty until you train or evaluate the model.\n",
            ">50, 1/3, d=0.728, g=0.623\n",
            ">50, 2/3, d=0.709, g=0.626\n",
            ">50, 3/3, d=0.707, g=0.627\n",
            ">51, 1/3, d=0.703, g=0.634\n",
            ">51, 2/3, d=0.707, g=0.639\n",
            ">51, 3/3, d=0.699, g=0.642\n",
            ">52, 1/3, d=0.706, g=0.648\n",
            ">52, 2/3, d=0.705, g=0.655\n",
            ">52, 3/3, d=0.704, g=0.663\n",
            ">53, 1/3, d=0.703, g=0.663\n",
            ">53, 2/3, d=0.698, g=0.666\n",
            ">53, 3/3, d=0.704, g=0.670\n",
            ">54, 1/3, d=0.706, g=0.675\n",
            ">54, 2/3, d=0.700, g=0.682\n",
            ">54, 3/3, d=0.701, g=0.690\n",
            ">55, 1/3, d=0.699, g=0.697\n",
            ">55, 2/3, d=0.701, g=0.700\n",
            ">55, 3/3, d=0.702, g=0.705\n",
            ">56, 1/3, d=0.697, g=0.707\n",
            ">56, 2/3, d=0.701, g=0.714\n",
            ">56, 3/3, d=0.700, g=0.718\n",
            ">57, 1/3, d=0.695, g=0.718\n",
            ">57, 2/3, d=0.696, g=0.717\n",
            ">57, 3/3, d=0.698, g=0.718\n",
            ">58, 1/3, d=0.696, g=0.720\n",
            ">58, 2/3, d=0.697, g=0.717\n",
            ">58, 3/3, d=0.701, g=0.721\n",
            ">59, 1/3, d=0.694, g=0.721\n",
            ">59, 2/3, d=0.697, g=0.726\n",
            ">59, 3/3, d=0.697, g=0.725\n",
            ">Accuracy real: 0%, fake: 100%\n",
            "WARNING:tensorflow:Compiled the loaded model, but the compiled metrics have yet to be built. `model.compile_metrics` will be empty until you train or evaluate the model.\n",
            ">60, 1/3, d=0.689, g=0.722\n",
            ">60, 2/3, d=0.699, g=0.721\n",
            ">60, 3/3, d=0.698, g=0.721\n",
            ">61, 1/3, d=0.697, g=0.716\n",
            ">61, 2/3, d=0.696, g=0.713\n",
            ">61, 3/3, d=0.697, g=0.720\n",
            ">62, 1/3, d=0.700, g=0.715\n",
            ">62, 2/3, d=0.698, g=0.712\n",
            ">62, 3/3, d=0.697, g=0.715\n",
            ">63, 1/3, d=0.699, g=0.709\n",
            ">63, 2/3, d=0.699, g=0.706\n",
            ">63, 3/3, d=0.698, g=0.704\n",
            ">64, 1/3, d=0.700, g=0.705\n",
            ">64, 2/3, d=0.699, g=0.700\n",
            ">64, 3/3, d=0.700, g=0.702\n",
            ">65, 1/3, d=0.699, g=0.701\n",
            ">65, 2/3, d=0.697, g=0.700\n",
            ">65, 3/3, d=0.699, g=0.697\n",
            ">66, 1/3, d=0.695, g=0.694\n",
            ">66, 2/3, d=0.700, g=0.696\n",
            ">66, 3/3, d=0.702, g=0.701\n",
            ">67, 1/3, d=0.699, g=0.698\n",
            ">67, 2/3, d=0.700, g=0.696\n",
            ">67, 3/3, d=0.698, g=0.698\n",
            ">68, 1/3, d=0.700, g=0.693\n",
            ">68, 2/3, d=0.697, g=0.693\n",
            ">68, 3/3, d=0.698, g=0.697\n",
            ">69, 1/3, d=0.700, g=0.693\n",
            ">69, 2/3, d=0.692, g=0.697\n",
            ">69, 3/3, d=0.698, g=0.697\n",
            ">Accuracy real: 48%, fake: 29%\n",
            "WARNING:tensorflow:Compiled the loaded model, but the compiled metrics have yet to be built. `model.compile_metrics` will be empty until you train or evaluate the model.\n",
            ">70, 1/3, d=0.695, g=0.696\n",
            ">70, 2/3, d=0.696, g=0.700\n",
            ">70, 3/3, d=0.697, g=0.695\n",
            ">71, 1/3, d=0.691, g=0.697\n",
            ">71, 2/3, d=0.699, g=0.697\n",
            ">71, 3/3, d=0.698, g=0.701\n",
            ">72, 1/3, d=0.696, g=0.699\n",
            ">72, 2/3, d=0.694, g=0.699\n",
            ">72, 3/3, d=0.693, g=0.698\n",
            ">73, 1/3, d=0.695, g=0.699\n",
            ">73, 2/3, d=0.695, g=0.696\n",
            ">73, 3/3, d=0.698, g=0.689\n",
            ">74, 1/3, d=0.693, g=0.686\n",
            ">74, 2/3, d=0.696, g=0.683\n",
            ">74, 3/3, d=0.697, g=0.690\n",
            ">75, 1/3, d=0.696, g=0.691\n",
            ">75, 2/3, d=0.692, g=0.692\n",
            ">75, 3/3, d=0.702, g=0.691\n",
            ">76, 1/3, d=0.700, g=0.686\n",
            ">76, 2/3, d=0.698, g=0.685\n",
            ">76, 3/3, d=0.699, g=0.687\n",
            ">77, 1/3, d=0.698, g=0.683\n",
            ">77, 2/3, d=0.695, g=0.681\n",
            ">77, 3/3, d=0.699, g=0.685\n",
            ">78, 1/3, d=0.697, g=0.682\n",
            ">78, 2/3, d=0.696, g=0.683\n",
            ">78, 3/3, d=0.700, g=0.689\n",
            ">79, 1/3, d=0.696, g=0.690\n",
            ">79, 2/3, d=0.696, g=0.691\n",
            ">79, 3/3, d=0.696, g=0.688\n",
            ">Accuracy real: 86%, fake: 3%\n",
            "WARNING:tensorflow:Compiled the loaded model, but the compiled metrics have yet to be built. `model.compile_metrics` will be empty until you train or evaluate the model.\n",
            ">80, 1/3, d=0.700, g=0.687\n",
            ">80, 2/3, d=0.697, g=0.691\n",
            ">80, 3/3, d=0.696, g=0.687\n",
            ">81, 1/3, d=0.700, g=0.681\n",
            ">81, 2/3, d=0.700, g=0.679\n",
            ">81, 3/3, d=0.696, g=0.679\n",
            ">82, 1/3, d=0.699, g=0.677\n",
            ">82, 2/3, d=0.699, g=0.677\n",
            ">82, 3/3, d=0.701, g=0.676\n",
            ">83, 1/3, d=0.699, g=0.676\n",
            ">83, 2/3, d=0.698, g=0.679\n",
            ">83, 3/3, d=0.699, g=0.680\n",
            ">84, 1/3, d=0.700, g=0.678\n",
            ">84, 2/3, d=0.699, g=0.679\n",
            ">84, 3/3, d=0.702, g=0.673\n",
            ">85, 1/3, d=0.699, g=0.678\n",
            ">85, 2/3, d=0.703, g=0.676\n",
            ">85, 3/3, d=0.699, g=0.675\n",
            ">86, 1/3, d=0.699, g=0.674\n",
            ">86, 2/3, d=0.699, g=0.671\n",
            ">86, 3/3, d=0.698, g=0.670\n",
            ">87, 1/3, d=0.699, g=0.673\n",
            ">87, 2/3, d=0.699, g=0.673\n",
            ">87, 3/3, d=0.700, g=0.671\n",
            ">88, 1/3, d=0.700, g=0.674\n",
            ">88, 2/3, d=0.699, g=0.677\n",
            ">88, 3/3, d=0.698, g=0.678\n",
            ">89, 1/3, d=0.696, g=0.674\n",
            ">89, 2/3, d=0.700, g=0.677\n",
            ">89, 3/3, d=0.700, g=0.677\n",
            ">Accuracy real: 97%, fake: 0%\n",
            "WARNING:tensorflow:Compiled the loaded model, but the compiled metrics have yet to be built. `model.compile_metrics` will be empty until you train or evaluate the model.\n",
            ">90, 1/3, d=0.704, g=0.681\n",
            ">90, 2/3, d=0.698, g=0.677\n",
            ">90, 3/3, d=0.697, g=0.679\n",
            ">91, 1/3, d=0.697, g=0.681\n",
            ">91, 2/3, d=0.699, g=0.682\n",
            ">91, 3/3, d=0.697, g=0.686\n",
            ">92, 1/3, d=0.699, g=0.689\n",
            ">92, 2/3, d=0.699, g=0.689\n",
            ">92, 3/3, d=0.699, g=0.686\n",
            ">93, 1/3, d=0.700, g=0.684\n",
            ">93, 2/3, d=0.698, g=0.688\n",
            ">93, 3/3, d=0.696, g=0.689\n",
            ">94, 1/3, d=0.700, g=0.687\n",
            ">94, 2/3, d=0.699, g=0.688\n",
            ">94, 3/3, d=0.699, g=0.689\n",
            ">95, 1/3, d=0.699, g=0.685\n",
            ">95, 2/3, d=0.700, g=0.690\n",
            ">95, 3/3, d=0.699, g=0.690\n",
            ">96, 1/3, d=0.696, g=0.688\n",
            ">96, 2/3, d=0.697, g=0.690\n",
            ">96, 3/3, d=0.697, g=0.690\n",
            ">97, 1/3, d=0.697, g=0.692\n",
            ">97, 2/3, d=0.698, g=0.690\n",
            ">97, 3/3, d=0.697, g=0.689\n",
            ">98, 1/3, d=0.697, g=0.689\n",
            ">98, 2/3, d=0.698, g=0.685\n",
            ">98, 3/3, d=0.701, g=0.687\n",
            ">99, 1/3, d=0.697, g=0.685\n",
            ">99, 2/3, d=0.698, g=0.683\n",
            ">99, 3/3, d=0.697, g=0.687\n",
            ">Accuracy real: 96%, fake: 0%\n",
            "WARNING:tensorflow:Compiled the loaded model, but the compiled metrics have yet to be built. `model.compile_metrics` will be empty until you train or evaluate the model.\n",
            ">100, 1/3, d=0.701, g=0.682\n",
            ">100, 2/3, d=0.698, g=0.684\n",
            ">100, 3/3, d=0.696, g=0.687\n"
          ],
          "name": "stdout"
        }
      ]
    },
    {
      "cell_type": "markdown",
      "metadata": {
        "id": "3a164aa3"
      },
      "source": [
        "## Loading and Using the Model"
      ],
      "id": "3a164aa3"
    },
    {
      "cell_type": "code",
      "metadata": {
        "id": "eae0701e",
        "colab": {
          "base_uri": "https://localhost:8080/",
          "height": 393
        },
        "outputId": "c4f4af51-9bb6-4c11-8df2-971dba0672ce"
      },
      "source": [
        "from keras.models import load_model\n",
        "\n",
        "model = load_model('/content/generator_model_100.h5', compile=False)\n",
        "latent_points = generate_latent_points(100, 25)\n",
        "X = model.predict(latent_points)\n",
        "save_plot(X, 5)"
      ],
      "id": "eae0701e",
      "execution_count": 19,
      "outputs": [
        {
          "output_type": "error",
          "ename": "IndexError",
          "evalue": "ignored",
          "traceback": [
            "\u001b[0;31m---------------------------------------------------------------------------\u001b[0m",
            "\u001b[0;31mIndexError\u001b[0m                                Traceback (most recent call last)",
            "\u001b[0;32m<ipython-input-19-16562de53a6b>\u001b[0m in \u001b[0;36m<module>\u001b[0;34m()\u001b[0m\n\u001b[1;32m      4\u001b[0m \u001b[0mlatent_points\u001b[0m \u001b[0;34m=\u001b[0m \u001b[0mgenerate_latent_points\u001b[0m\u001b[0;34m(\u001b[0m\u001b[0;36m100\u001b[0m\u001b[0;34m,\u001b[0m \u001b[0;36m25\u001b[0m\u001b[0;34m)\u001b[0m\u001b[0;34m\u001b[0m\u001b[0;34m\u001b[0m\u001b[0m\n\u001b[1;32m      5\u001b[0m \u001b[0mX\u001b[0m \u001b[0;34m=\u001b[0m \u001b[0mmodel\u001b[0m\u001b[0;34m.\u001b[0m\u001b[0mpredict\u001b[0m\u001b[0;34m(\u001b[0m\u001b[0mlatent_points\u001b[0m\u001b[0;34m)\u001b[0m\u001b[0;34m\u001b[0m\u001b[0;34m\u001b[0m\u001b[0m\n\u001b[0;32m----> 6\u001b[0;31m \u001b[0msave_plot\u001b[0m\u001b[0;34m(\u001b[0m\u001b[0mX\u001b[0m\u001b[0;34m,\u001b[0m \u001b[0;36m5\u001b[0m\u001b[0;34m)\u001b[0m\u001b[0;34m\u001b[0m\u001b[0;34m\u001b[0m\u001b[0m\n\u001b[0m",
            "\u001b[0;32m<ipython-input-12-c48580f424d3>\u001b[0m in \u001b[0;36msave_plot\u001b[0;34m(examples, epoch, n)\u001b[0m\n\u001b[1;32m      3\u001b[0m         \u001b[0mpyplot\u001b[0m\u001b[0;34m.\u001b[0m\u001b[0msubplot\u001b[0m\u001b[0;34m(\u001b[0m\u001b[0mn\u001b[0m\u001b[0;34m,\u001b[0m \u001b[0mn\u001b[0m\u001b[0;34m,\u001b[0m \u001b[0;36m1\u001b[0m \u001b[0;34m+\u001b[0m \u001b[0mi\u001b[0m\u001b[0;34m)\u001b[0m\u001b[0;34m\u001b[0m\u001b[0;34m\u001b[0m\u001b[0m\n\u001b[1;32m      4\u001b[0m         \u001b[0mpyplot\u001b[0m\u001b[0;34m.\u001b[0m\u001b[0maxis\u001b[0m\u001b[0;34m(\u001b[0m\u001b[0;34m'off'\u001b[0m\u001b[0;34m)\u001b[0m\u001b[0;34m\u001b[0m\u001b[0;34m\u001b[0m\u001b[0m\n\u001b[0;32m----> 5\u001b[0;31m         \u001b[0mpyplot\u001b[0m\u001b[0;34m.\u001b[0m\u001b[0mimshow\u001b[0m\u001b[0;34m(\u001b[0m\u001b[0mexamples\u001b[0m\u001b[0;34m[\u001b[0m\u001b[0mi\u001b[0m\u001b[0;34m,\u001b[0m \u001b[0;34m:\u001b[0m\u001b[0;34m,\u001b[0m \u001b[0;34m:\u001b[0m\u001b[0;34m,\u001b[0m \u001b[0;36m0\u001b[0m\u001b[0;34m]\u001b[0m\u001b[0;34m,\u001b[0m \u001b[0mcmap\u001b[0m\u001b[0;34m=\u001b[0m\u001b[0;34m'gray_r'\u001b[0m\u001b[0;34m)\u001b[0m\u001b[0;34m\u001b[0m\u001b[0;34m\u001b[0m\u001b[0m\n\u001b[0m\u001b[1;32m      6\u001b[0m     \u001b[0mfilename\u001b[0m \u001b[0;34m=\u001b[0m \u001b[0;34m'generated_plot_e%03d.png'\u001b[0m \u001b[0;34m%\u001b[0m \u001b[0;34m(\u001b[0m\u001b[0mepoch\u001b[0m\u001b[0;34m+\u001b[0m\u001b[0;36m1\u001b[0m\u001b[0;34m)\u001b[0m\u001b[0;34m\u001b[0m\u001b[0;34m\u001b[0m\u001b[0m\n\u001b[1;32m      7\u001b[0m     \u001b[0mpyplot\u001b[0m\u001b[0;34m.\u001b[0m\u001b[0msavefig\u001b[0m\u001b[0;34m(\u001b[0m\u001b[0mfilename\u001b[0m\u001b[0;34m)\u001b[0m\u001b[0;34m\u001b[0m\u001b[0;34m\u001b[0m\u001b[0m\n",
            "\u001b[0;31mIndexError\u001b[0m: index 25 is out of bounds for axis 0 with size 25"
          ]
        },
        {
          "output_type": "display_data",
          "data": {
            "image/png": "[encoded data removed]",
            "text/plain": [
              "<Figure size 432x288 with 26 Axes>"
            ]
          },
          "metadata": {
            "tags": [],
            "needs_background": "light"
          }
        }
      ]
    }
  ]
}